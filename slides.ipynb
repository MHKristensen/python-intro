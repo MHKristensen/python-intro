{
 "cells": [
  {
   "cell_type": "markdown",
   "metadata": {
    "slideshow": {
     "slide_type": "slide"
    }
   },
   "source": [
    "# <div style=\"text-align:center;\">Python – Introduction</div>\n",
    "\n",
    "## <div style=\"text-align:center;\">Crash Course on Basic Scientific Computing Packages</div>\n",
    "<br/>\n",
    "<div align=\"center\">23rd of October, 2018\n",
    "<br/>\n",
    "Thomas Arildsen<br/>\n",
    "[tha@es.aau.dk](tha@es.aau.dk)\n",
    "<div/>\n",
    "<br/>\n",
    "<div align=\"center\">\n",
    "Dept. of Electronic Systems<br/>\n",
    "Aalborg University\n",
    "</div>"
   ]
  },
  {
   "cell_type": "markdown",
   "metadata": {
    "slideshow": {
     "slide_type": "slide"
    }
   },
   "source": [
    "# What is Python?\n",
    "\n",
    "- A mature language (>25 years) with lots of good documentation.\n",
    "- Open source, very active community, and ranks in top 10 among the 600 known programming languages - number 1 in [IEEE Spectrum's Top Programming Languages](https://spectrum.ieee.org/static/interactive-the-top-programming-languages-2018) 2nd year in a row.\n",
    "- Interpreted programming language, but allows for compilation for speed.\n",
    "- Strongly, but dynamically typed language.\n",
    "- Suited to small as well as huge projects (>100,000 lines of code) and scales to thousands of cores.\n",
    "- Easy switch from Matlab to Python."
   ]
  },
  {
   "cell_type": "markdown",
   "metadata": {
    "slideshow": {
     "slide_type": "subslide"
    }
   },
   "source": [
    "## A few highlights of what Python offers\n",
    "\n",
    "- Has all of the basic support in signal processing, imaging, linear algebra, stochastic processes, optimization, multiprocessing, storage, databases etc.\n",
    "\n",
    "  We lose...\n",
    "\n",
    "  Not much but Matlab probably does have more specific toolboxes in engineering and equally good or better documentation."
   ]
  },
  {
   "cell_type": "markdown",
   "metadata": {
    "slideshow": {
     "slide_type": "subslide"
    }
   },
   "source": [
    "## A few highlights of what Python offers\n",
    "\n",
    "- **Fast prototyping** (interpreted language; simple, high-level syntax).\n",
    "- **Cross-platform** compatibility at no/low cost.\n",
    "- **Solid support** (courses, maintenance, helpdesk, ...)\n",
    "- **Huge codebase** -- many packages in scientific computing (linear algebra, machine learning, plotting, storage, database access, ...) as well as countless other application areas.\n",
    "- **Documentation of (mostly) high quality** (manuals, webinars, tutorials, books, ...)\n",
    "- **General purpose language**; scientific computing is becoming way more than number crunching.\n",
    "- Large and dedicated **community**."
   ]
  },
  {
   "cell_type": "markdown",
   "metadata": {
    "slideshow": {
     "slide_type": "subslide"
    }
   },
   "source": [
    "## A few highlights of what Python offers\n",
    "\n",
    "(*We do not see details of these today*)\n",
    "- **Object-oriented** programming as well as **procedural**. *See [Classes](https://docs.python.org/3.7/tutorial/classes.html)*\n",
    "- **Parallel computing** enabled/high performance computing support. *See [`multiprocessing`](https://docs.python.org/3.7/library/multiprocessing.html) and [`concurrent.futures`](https://docs.python.org/3.7/library/concurrent.futures.html#module-concurrent.futures)*\n",
    "- Possible **semiautomated** tools for **documentation generation** for developed code. *See, e.g., [Sphinx](http://www.sphinx-doc.org/en/stable/)*\n",
    "- Solid and easy-to-use **test/validation frameworks**. *See [Pytest](https://docs.pytest.org/en/latest/), [`unittest`](https://docs.python.org/3.7/library/unittest.html), [`doctest`](https://docs.python.org/3.7/library/doctest.html)*\n",
    "- Supports **high productivity** and a **fast learning** curve.\n",
    "- In general: good support for **reproducible research**."
   ]
  },
  {
   "cell_type": "markdown",
   "metadata": {
    "slideshow": {
     "slide_type": "subslide"
    }
   },
   "source": [
    "## A note on Python 2 vs Python 3\n",
    "\n",
    "- Python 2 (specifically 2.7) has for many years been the de facto standard version of Python.\n",
    "- Python 3 (most recently 3.7) has been around for several years by now and is the actively developed version of Python.\n",
    "- A lot of legacy Python code still lingers around, requiring Python 2.7.\n",
    "- *My recommendation*: Do not look back. Python 3 is the future; base your code on it; support for Python 2.7 will end in 2020."
   ]
  },
  {
   "cell_type": "markdown",
   "metadata": {
    "slideshow": {
     "slide_type": "slide"
    }
   },
   "source": [
    "# Editing and running code\n",
    "\n",
    "First of all, since Python is an interpreted language, there is no need for compilation and linking (happens automatically at run-time).<br/>\n",
    "There are many different workflow options:\n",
    "\n",
    "- Edit in some text editor, run from the command line\n",
    "- Edit in some text editor, run interactively in IPython\n",
    "- Use some IDE with integrated text editing, interactive console, debugger etc.\n",
    "\n",
    "  - One option that we will try here: **Spyder** (available as part of Anaconda).\n",
    "    \n",
    "    *Let us take a quick look...*"
   ]
  },
  {
   "cell_type": "markdown",
   "metadata": {
    "slideshow": {
     "slide_type": "slide"
    }
   },
   "source": [
    "# Python syntax\n",
    "\n",
    "A quick tour of some notable Python syntax features.\n",
    "\n",
    "Python looks quite a bit like, e.g., Matlab for those who are familiar with that."
   ]
  },
  {
   "cell_type": "markdown",
   "metadata": {
    "slideshow": {
     "slide_type": "subslide"
    }
   },
   "source": [
    "## Typical traits Python *does not* have\n",
    "\n",
    "- Python *does not*:\n",
    "  - identify code blocks with various brackets,\n",
    "    ```C++\n",
    "    int main ()\n",
    "    {\n",
    "      // ...\n",
    "    }\n",
    "    ```\n",
    "  - use special keywords to end code blocks,\n",
    "    ```matlab\n",
    "    if a > 1\n",
    "      % ...\n",
    "    end\n",
    "    ```\n",
    "  - require special characters to terminate lines without output.\n",
    "    ```matlab\n",
    "    a = 10;\n",
    "    ```"
   ]
  },
  {
   "cell_type": "markdown",
   "metadata": {
    "slideshow": {
     "slide_type": "subslide"
    }
   },
   "source": [
    "## Basic Python code structure\n",
    "\n",
    "Code blocks in Python generally have the following structure:\n",
    "```\n",
    "<keyword> <statement>:\n",
    "    <indented lines of code>\n",
    "    ...\n",
    "    <indented lines of code>\n",
    "```"
   ]
  },
  {
   "cell_type": "markdown",
   "metadata": {
    "slideshow": {
     "slide_type": "fragment"
    }
   },
   "source": [
    "Let us see a very simple first example of that in some real Python code:"
   ]
  },
  {
   "cell_type": "code",
   "execution_count": null,
   "metadata": {
    "slideshow": {
     "slide_type": "-"
    }
   },
   "outputs": [],
   "source": [
    "if 10 > 1:\n",
    "    print(\"Ten is, unsurprisingly, larger than one!\")"
   ]
  },
  {
   "cell_type": "markdown",
   "metadata": {
    "slideshow": {
     "slide_type": "subslide"
    }
   },
   "source": [
    "# Creating and assigning variables\n",
    "\n",
    "Variables are created when first used. For example,"
   ]
  },
  {
   "cell_type": "code",
   "execution_count": null,
   "metadata": {
    "slideshow": {
     "slide_type": "-"
    }
   },
   "outputs": [],
   "source": [
    "a = 1"
   ]
  },
  {
   "cell_type": "markdown",
   "metadata": {
    "slideshow": {
     "slide_type": "fragment"
    }
   },
   "source": [
    "Python has types, but it is not necessary to specify them when creating variables. Python automatically infers types:"
   ]
  },
  {
   "cell_type": "code",
   "execution_count": null,
   "metadata": {
    "slideshow": {
     "slide_type": "-"
    }
   },
   "outputs": [],
   "source": [
    "type(a)"
   ]
  },
  {
   "cell_type": "markdown",
   "metadata": {
    "slideshow": {
     "slide_type": "subslide"
    }
   },
   "source": [
    "## Basic Python types\n",
    "\n",
    "The basic types in Python are:\n",
    "\n",
    "- Integers:"
   ]
  },
  {
   "cell_type": "code",
   "execution_count": null,
   "metadata": {
    "slideshow": {
     "slide_type": "-"
    }
   },
   "outputs": [],
   "source": [
    "a = 1\n",
    "type(a)"
   ]
  },
  {
   "cell_type": "markdown",
   "metadata": {
    "slideshow": {
     "slide_type": "fragment"
    }
   },
   "source": [
    "- Floats (floating-point numbers):"
   ]
  },
  {
   "cell_type": "code",
   "execution_count": null,
   "metadata": {
    "slideshow": {
     "slide_type": "-"
    }
   },
   "outputs": [],
   "source": [
    "b = 1.0\n",
    "type(b)"
   ]
  },
  {
   "cell_type": "markdown",
   "metadata": {
    "slideshow": {
     "slide_type": "fragment"
    }
   },
   "source": [
    "- Booleans (true or false):"
   ]
  },
  {
   "cell_type": "code",
   "execution_count": null,
   "metadata": {
    "slideshow": {
     "slide_type": "-"
    }
   },
   "outputs": [],
   "source": [
    "c = True\n",
    "type(c)"
   ]
  },
  {
   "cell_type": "markdown",
   "metadata": {
    "slideshow": {
     "slide_type": "fragment"
    }
   },
   "source": [
    "- Strings:"
   ]
  },
  {
   "cell_type": "code",
   "execution_count": null,
   "metadata": {
    "slideshow": {
     "slide_type": "-"
    }
   },
   "outputs": [],
   "source": [
    "d = 'Hello world'\n",
    "type(d)"
   ]
  },
  {
   "cell_type": "markdown",
   "metadata": {
    "slideshow": {
     "slide_type": "subslide"
    }
   },
   "source": [
    "# Python control structures - the usual suspects\n",
    "\n",
    "Some of the more basic control structures in any programming language are loops and conditionals. What do they look like in Python?\n",
    "\n",
    "## Loops\n",
    "We have two kinds in Python:\n",
    "- `for`:"
   ]
  },
  {
   "cell_type": "code",
   "execution_count": null,
   "metadata": {
    "slideshow": {
     "slide_type": "-"
    }
   },
   "outputs": [],
   "source": [
    "for idx in range(10):\n",
    "    print(idx)"
   ]
  },
  {
   "cell_type": "markdown",
   "metadata": {
    "slideshow": {
     "slide_type": "fragment"
    }
   },
   "source": [
    "Note here that `for` loops in Python are much more versatile than simply counting over consecutive integers in a counter variable. The variable (here `idx`) can iterate over any \"sequence\" of \"things\" (via `in`) - here `range` is the most straight-forward way to just use a sequence of integers."
   ]
  },
  {
   "cell_type": "markdown",
   "metadata": {
    "slideshow": {
     "slide_type": "subslide"
    }
   },
   "source": [
    "## Loops\n",
    "- `while`:"
   ]
  },
  {
   "cell_type": "code",
   "execution_count": null,
   "metadata": {
    "slideshow": {
     "slide_type": "-"
    }
   },
   "outputs": [],
   "source": [
    "idx = 0\n",
    "while idx < 10:\n",
    "    print(idx)\n",
    "    idx += 1"
   ]
  },
  {
   "cell_type": "markdown",
   "metadata": {
    "slideshow": {
     "slide_type": "fragment"
    }
   },
   "source": [
    "In Python, `while` loops are more \"traditional\" in the sense that they will keep looping as long as their condition is true (here `idx < 10`)."
   ]
  },
  {
   "cell_type": "markdown",
   "metadata": {
    "slideshow": {
     "slide_type": "subslide"
    }
   },
   "source": [
    "## Conditionals"
   ]
  },
  {
   "cell_type": "code",
   "execution_count": null,
   "metadata": {
    "slideshow": {
     "slide_type": "-"
    }
   },
   "outputs": [],
   "source": [
    "number = 5\n",
    "if 0 <= number < 5:\n",
    "    print(\"Number is between 0 and 5 (excluded)\")\n",
    "elif 5 <= number < 10:\n",
    "    print(\"Number is between 5 and 10 (excluded)\")\n",
    "else:\n",
    "    print(\"Number is smaller than 0 or greater than 10 (included)\")"
   ]
  },
  {
   "cell_type": "markdown",
   "metadata": {
    "slideshow": {
     "slide_type": "fragment"
    }
   },
   "source": [
    "Note that Python has no \"switch\" (\"case\") statement - you need to handle that using `else` - `elif` - `else`."
   ]
  },
  {
   "cell_type": "markdown",
   "metadata": {
    "slideshow": {
     "slide_type": "subslide"
    }
   },
   "source": [
    "## Functions"
   ]
  },
  {
   "cell_type": "code",
   "execution_count": null,
   "metadata": {
    "slideshow": {
     "slide_type": "-"
    }
   },
   "outputs": [],
   "source": [
    "def example_function(first_argument, second_argument=1):\n",
    "    return first_argument + second_argument, first_argument - second_argument"
   ]
  },
  {
   "cell_type": "code",
   "execution_count": null,
   "metadata": {
    "slideshow": {
     "slide_type": "-"
    }
   },
   "outputs": [],
   "source": [
    "example_function(3, 2)"
   ]
  },
  {
   "cell_type": "markdown",
   "metadata": {
    "slideshow": {
     "slide_type": "fragment"
    }
   },
   "source": [
    "Functions can have optional arguments (\"keyword arguments\") - notice `second_argument` above:"
   ]
  },
  {
   "cell_type": "code",
   "execution_count": null,
   "metadata": {
    "slideshow": {
     "slide_type": "-"
    }
   },
   "outputs": [],
   "source": [
    "example_function(3)"
   ]
  },
  {
   "cell_type": "markdown",
   "metadata": {
    "slideshow": {
     "slide_type": "subslide"
    }
   },
   "source": [
    "# Python data structures - the basic selection\n",
    "\n",
    "Python offers a range of different data structures. These are the three most common and basic of them:\n",
    "\n",
    "## Lists"
   ]
  },
  {
   "cell_type": "code",
   "execution_count": null,
   "metadata": {
    "slideshow": {
     "slide_type": "-"
    }
   },
   "outputs": [],
   "source": [
    "list_example1 = [1, 2, 3]\n",
    "list_example1"
   ]
  },
  {
   "cell_type": "markdown",
   "metadata": {
    "slideshow": {
     "slide_type": "fragment"
    }
   },
   "source": [
    "Lists can hold a mix of different types and other data structures:"
   ]
  },
  {
   "cell_type": "code",
   "execution_count": null,
   "metadata": {
    "slideshow": {
     "slide_type": "-"
    }
   },
   "outputs": [],
   "source": [
    "list_example2 = [1, 2.0, 'three', [4, 5]]\n",
    "list_example2"
   ]
  },
  {
   "cell_type": "markdown",
   "metadata": {
    "slideshow": {
     "slide_type": "subslide"
    }
   },
   "source": [
    "## Lists\n",
    "\n",
    "Lists can have items added:"
   ]
  },
  {
   "cell_type": "code",
   "execution_count": null,
   "metadata": {
    "slideshow": {
     "slide_type": "-"
    }
   },
   "outputs": [],
   "source": [
    "list_example1.append(4)\n",
    "list_example1"
   ]
  },
  {
   "cell_type": "code",
   "execution_count": null,
   "metadata": {
    "slideshow": {
     "slide_type": "fragment"
    }
   },
   "outputs": [],
   "source": [
    "list_example1 += [5,6,7]\n",
    "list_example1"
   ]
  },
  {
   "cell_type": "markdown",
   "metadata": {
    "slideshow": {
     "slide_type": "fragment"
    }
   },
   "source": [
    "... removed:"
   ]
  },
  {
   "cell_type": "code",
   "execution_count": null,
   "metadata": {
    "slideshow": {
     "slide_type": "-"
    }
   },
   "outputs": [],
   "source": [
    "del list_example1[0]\n",
    "list_example1"
   ]
  },
  {
   "cell_type": "markdown",
   "metadata": {
    "slideshow": {
     "slide_type": "subslide"
    }
   },
   "source": [
    "## Tuples\n",
    "\n",
    "Tuples essentially behave like lists, *except*: they are *immutable* - they cannot be changed once they have been created:"
   ]
  },
  {
   "cell_type": "code",
   "execution_count": null,
   "metadata": {
    "slideshow": {
     "slide_type": "-"
    }
   },
   "outputs": [],
   "source": [
    "tuple_example1 = (1, 2, 3)"
   ]
  },
  {
   "cell_type": "markdown",
   "metadata": {
    "slideshow": {
     "slide_type": "fragment"
    }
   },
   "source": [
    "You can do clever things with lists and tuples, such as *unpacking*:"
   ]
  },
  {
   "cell_type": "code",
   "execution_count": null,
   "metadata": {
    "slideshow": {
     "slide_type": "-"
    }
   },
   "outputs": [],
   "source": [
    "one, two, three = tuple_example1\n",
    "two"
   ]
  },
  {
   "cell_type": "markdown",
   "metadata": {
    "slideshow": {
     "slide_type": "subslide"
    }
   },
   "source": [
    "## Dictionaries\n",
    "\n",
    "Whereas lists and tuples have consecutively numbered entries, dictionaries are a \"similar but different\" data structure where each entry is associated with a corresponding key:"
   ]
  },
  {
   "cell_type": "code",
   "execution_count": null,
   "metadata": {
    "slideshow": {
     "slide_type": "-"
    }
   },
   "outputs": [],
   "source": [
    "dict_example = {'first': 1, 'second': 2, 'third': 3}\n",
    "dict_example"
   ]
  },
  {
   "cell_type": "markdown",
   "metadata": {
    "slideshow": {
     "slide_type": "subslide"
    }
   },
   "source": [
    "## Accessing items in data structures\n",
    "\n",
    "In Python, entries are indexed using square brackets. Note: indexing starts from 0 in Python (it starts from 1 in for example Matlab):"
   ]
  },
  {
   "cell_type": "code",
   "execution_count": null,
   "metadata": {
    "slideshow": {
     "slide_type": "-"
    }
   },
   "outputs": [],
   "source": [
    "list_example1[3]"
   ]
  },
  {
   "cell_type": "code",
   "execution_count": null,
   "metadata": {
    "slideshow": {
     "slide_type": "-"
    }
   },
   "outputs": [],
   "source": [
    "tuple_example1[0]"
   ]
  },
  {
   "cell_type": "markdown",
   "metadata": {
    "slideshow": {
     "slide_type": "fragment"
    }
   },
   "source": [
    "We can also access \"ranges\" of items (slices):"
   ]
  },
  {
   "cell_type": "code",
   "execution_count": null,
   "metadata": {
    "slideshow": {
     "slide_type": "-"
    }
   },
   "outputs": [],
   "source": [
    "list_example1[0:2]"
   ]
  },
  {
   "cell_type": "code",
   "execution_count": null,
   "metadata": {
    "slideshow": {
     "slide_type": "fragment"
    }
   },
   "outputs": [],
   "source": [
    "list_example1[0:]"
   ]
  },
  {
   "cell_type": "code",
   "execution_count": null,
   "metadata": {
    "slideshow": {
     "slide_type": "fragment"
    }
   },
   "outputs": [],
   "source": [
    "list_example1[-1:-3:-1]"
   ]
  },
  {
   "cell_type": "markdown",
   "metadata": {
    "slideshow": {
     "slide_type": "fragment"
    }
   },
   "source": [
    "Dictionaries use their keys to look up entries instead of index numbers:"
   ]
  },
  {
   "cell_type": "code",
   "execution_count": null,
   "metadata": {
    "slideshow": {
     "slide_type": "-"
    }
   },
   "outputs": [],
   "source": [
    "dict_example['first']"
   ]
  },
  {
   "cell_type": "markdown",
   "metadata": {
    "slideshow": {
     "slide_type": "subslide"
    }
   },
   "source": [
    "# String formatting\n",
    "\n",
    "It can be nice to know how to combine variables with strings. Several options, some of which are:\n",
    "\n",
    "- Strings' `format` function:"
   ]
  },
  {
   "cell_type": "code",
   "execution_count": null,
   "metadata": {
    "slideshow": {
     "slide_type": "-"
    }
   },
   "outputs": [],
   "source": [
    "string_example = \"This is a number: {:1.2f}\".format(3.1111111)\n",
    "string_example"
   ]
  },
  {
   "cell_type": "markdown",
   "metadata": {
    "slideshow": {
     "slide_type": "fragment"
    }
   },
   "source": [
    "- String concatenation:"
   ]
  },
  {
   "cell_type": "code",
   "execution_count": null,
   "metadata": {
    "slideshow": {
     "slide_type": "-"
    }
   },
   "outputs": [],
   "source": [
    "string_example + \", and it has two decimals.\""
   ]
  },
  {
   "cell_type": "markdown",
   "metadata": {
    "slideshow": {
     "slide_type": "fragment"
    }
   },
   "source": [
    "- Literal string interpolation (f-strings, only available in Python >= 3.6):"
   ]
  },
  {
   "cell_type": "code",
   "execution_count": null,
   "metadata": {
    "slideshow": {
     "slide_type": "-"
    }
   },
   "outputs": [],
   "source": [
    "number = 1.5\n",
    "f\"This is a number: {number:10.3f}\""
   ]
  },
  {
   "cell_type": "markdown",
   "metadata": {
    "slideshow": {
     "slide_type": "subslide"
    }
   },
   "source": [
    "# Handling text files\n",
    "\n",
    "It is also quite straightforward to handle files in Python. Here we illustrate it with a simple text file example:"
   ]
  },
  {
   "cell_type": "code",
   "execution_count": null,
   "metadata": {
    "slideshow": {
     "slide_type": "-"
    }
   },
   "outputs": [],
   "source": [
    "some_text = [\"First line\",\n",
    "            \"Second line\",\n",
    "            \"Third line\"]\n",
    "\n",
    "with open('demo_file.txt', 'w') as outfile:\n",
    "    for line_of_text in some_text:\n",
    "        outfile.write(line_of_text + \"\\n\")"
   ]
  },
  {
   "cell_type": "code",
   "execution_count": null,
   "metadata": {
    "slideshow": {
     "slide_type": "fragment"
    }
   },
   "outputs": [],
   "source": [
    "with open('demo_file.txt', 'r') as infile:\n",
    "    for line_of_text in infile:\n",
    "        print(line_of_text)"
   ]
  },
  {
   "cell_type": "markdown",
   "metadata": {
    "slideshow": {
     "slide_type": "-"
    }
   },
   "source": [
    "There are many ways to go about this, see [Reading and writing files](https://docs.python.org/3.7/tutorial/inputoutput.html#reading-and-writing-files). This was just one example."
   ]
  },
  {
   "cell_type": "markdown",
   "metadata": {
    "slideshow": {
     "slide_type": "subslide"
    }
   },
   "source": [
    "# Basic Python Summary\n",
    "\n",
    "These were just a few highlights to get you started. There is much more where that came from. See [The Python tutorial](https://docs.python.org/3.7/tutorial/index.html) for more."
   ]
  },
  {
   "cell_type": "markdown",
   "metadata": {
    "slideshow": {
     "slide_type": "slide"
    }
   },
   "source": [
    "# NumPy\n",
    "\n",
    "When it comes to numerical processing and data, basic Python is not very efficient.\n",
    "\n",
    "- It is an interpreted language, after all.\n",
    "- We get convenient and efficient development at the expense of somewhat slow execution.\n",
    "\n",
    "Then what?\n",
    "\n",
    "- NumPy to the rescue.\n",
    "- NumPy offers an efficient data structure - NumPy arrays (`ndarray`) - which makes storing and processing numerical data quite a lot more efficient."
   ]
  },
  {
   "cell_type": "markdown",
   "metadata": {
    "slideshow": {
     "slide_type": "subslide"
    }
   },
   "source": [
    "## Recapitulating vector basics\n",
    "\n",
    "* I assume you are familiar with vectors and matrices.\n",
    "\n",
    "  Often seen as coordinates of points in 2, or maybe 3 dimensions\n",
    "\n",
    "    $$\\begin{align*}\n",
    "      \\begin{pmatrix}\n",
    "        x & y\n",
    "      \\end{pmatrix}\n",
    "      &&\n",
    "      \\begin{pmatrix}\n",
    "        x\\\\\n",
    "        y\n",
    "      \\end{pmatrix}\n",
    "      &&\n",
    "      \\begin{bmatrix}\n",
    "        x\\\\\n",
    "        y\n",
    "      \\end{bmatrix}\n",
    "      &&\n",
    "      \\begin{bmatrix}\n",
    "        x\\\\\n",
    "        y\\\\\n",
    "        z\n",
    "      \\end{bmatrix} = \\begin{bmatrix}\n",
    "        x & y & z\n",
    "      \\end{bmatrix}^\\mathsf{T}\n",
    "    \\end{align*}$$\n",
    "\n",
    "* Vectors in 2 or 3 dimensions (elements) are convenient to imagine, as they can represent points in a plane or space."
   ]
  },
  {
   "cell_type": "markdown",
   "metadata": {
    "slideshow": {
     "slide_type": "fragment"
    }
   },
   "source": [
    "* Many of the things we do with NumPy are helpful to think of as operations on vectors and matrices (tensors in general)."
   ]
  },
  {
   "cell_type": "markdown",
   "metadata": {
    "slideshow": {
     "slide_type": "subslide"
    }
   },
   "source": [
    "## Vectors in Python – lists?\n",
    "\n",
    "Can we use lists as vectors in Python?\n",
    "\n",
    "- We could, but we should not...\n",
    "\n",
    "Advantages\n",
    "\n",
    "* Lists are very versatile. The elements can be a mixture of several different data types\n",
    "* You can add or remove elements (grow or shrink) anywhere in the list."
   ]
  },
  {
   "cell_type": "markdown",
   "metadata": {
    "slideshow": {
     "slide_type": "fragment"
    }
   },
   "source": [
    "Disadvantages\n",
    "\n",
    "* Slow.\n",
    "* Memory-consuming.\n",
    "* Mathematical operations on lists are clumsy.\n",
    "\n",
    "For the vector-like data, we do not need the advantages and we do not like the disadvantages. Now what?"
   ]
  },
  {
   "cell_type": "markdown",
   "metadata": {
    "slideshow": {
     "slide_type": "subslide"
    }
   },
   "source": [
    "## NumPy Arrays - a data container for vector-like data\n",
    "\n",
    "A more suitable alternative to lists for vector-like data is arrays.\n",
    "\n",
    "* We need to import the [NumPy](http://www.numpy.org/) package:"
   ]
  },
  {
   "cell_type": "code",
   "execution_count": null,
   "metadata": {
    "slideshow": {
     "slide_type": "-"
    }
   },
   "outputs": [],
   "source": [
    "import numpy as np"
   ]
  },
  {
   "cell_type": "markdown",
   "metadata": {
    "slideshow": {
     "slide_type": "fragment"
    }
   },
   "source": [
    "* All elements must be of same type – preferably integer, real, or complex for efficient computation.\n",
    "* The size of the array (vector) should be known and fixed when you create it (inconvenient to change).\n",
    "* Many operations in NumPy can be done directly on arrays - vectorisation."
   ]
  },
  {
   "cell_type": "markdown",
   "metadata": {
    "slideshow": {
     "slide_type": "subslide"
    }
   },
   "source": [
    "## Arrays - basic construction\n",
    "\n",
    "NumPy arrays (from now on just “arrays”) can be constructed in a number of ways.\n",
    "\n",
    "- Literal array - convert from list or tuple:"
   ]
  },
  {
   "cell_type": "code",
   "execution_count": null,
   "metadata": {
    "slideshow": {
     "slide_type": "-"
    }
   },
   "outputs": [],
   "source": [
    "array_example1 = np.array([1, 2, 3])\n",
    "array_example1"
   ]
  },
  {
   "cell_type": "code",
   "execution_count": null,
   "metadata": {
    "slideshow": {
     "slide_type": "-"
    }
   },
   "outputs": [],
   "source": [
    "array_example2 = np.array((1, 2, 3))\n",
    "array_example2"
   ]
  },
  {
   "cell_type": "markdown",
   "metadata": {
    "slideshow": {
     "slide_type": "subslide"
    }
   },
   "source": [
    "- Initialise an array of zeros:"
   ]
  },
  {
   "cell_type": "code",
   "execution_count": null,
   "metadata": {
    "slideshow": {
     "slide_type": "-"
    }
   },
   "outputs": [],
   "source": [
    "array_zeros1 = np.zeros((2, 3))\n",
    "array_zeros1"
   ]
  },
  {
   "cell_type": "markdown",
   "metadata": {
    "slideshow": {
     "slide_type": "fragment"
    }
   },
   "source": [
    "* Create a zero array of same type and shape as an existing array:"
   ]
  },
  {
   "cell_type": "code",
   "execution_count": null,
   "metadata": {
    "slideshow": {
     "slide_type": "-"
    }
   },
   "outputs": [],
   "source": [
    "array_zeros2 = np.zeros_like(array_example1)\n",
    "array_zeros2"
   ]
  },
  {
   "cell_type": "markdown",
   "metadata": {
    "slideshow": {
     "slide_type": "fragment"
    }
   },
   "source": [
    "- Initialise an array of ones:"
   ]
  },
  {
   "cell_type": "code",
   "execution_count": null,
   "metadata": {
    "slideshow": {
     "slide_type": "-"
    }
   },
   "outputs": [],
   "source": [
    "array_ones = np.ones((3, 1))\n",
    "array_ones"
   ]
  },
  {
   "cell_type": "markdown",
   "metadata": {
    "slideshow": {
     "slide_type": "-"
    }
   },
   "source": [
    "Similarly, there is a `numpy.ones_like` function."
   ]
  },
  {
   "cell_type": "markdown",
   "metadata": {
    "slideshow": {
     "slide_type": "subslide"
    }
   },
   "source": [
    "* Create sequence of equally spaced values"
   ]
  },
  {
   "cell_type": "code",
   "execution_count": null,
   "metadata": {
    "slideshow": {
     "slide_type": "-"
    }
   },
   "outputs": [],
   "source": [
    "seq_values1 = np.linspace(1/3, 23.9, 5)\n",
    "seq_values1"
   ]
  },
  {
   "cell_type": "markdown",
   "metadata": {
    "slideshow": {
     "slide_type": "fragment"
    }
   },
   "source": [
    "* Create sequence of integers"
   ]
  },
  {
   "cell_type": "code",
   "execution_count": null,
   "metadata": {
    "slideshow": {
     "slide_type": "-"
    }
   },
   "outputs": [],
   "source": [
    "seq_values2 = np.arange(2, 18, 2)\n",
    "seq_values2"
   ]
  },
  {
   "cell_type": "markdown",
   "metadata": {
    "slideshow": {
     "slide_type": "subslide"
    }
   },
   "source": [
    "## Arrays - indexing\n",
    "\n",
    "Arrays are indexed/accessed the same way as lists and tuples"
   ]
  },
  {
   "cell_type": "code",
   "execution_count": null,
   "metadata": {
    "slideshow": {
     "slide_type": "-"
    }
   },
   "outputs": [],
   "source": [
    "seq_values2[2]"
   ]
  },
  {
   "cell_type": "markdown",
   "metadata": {
    "slideshow": {
     "slide_type": "fragment"
    }
   },
   "source": [
    "* Slices"
   ]
  },
  {
   "cell_type": "code",
   "execution_count": null,
   "metadata": {
    "slideshow": {
     "slide_type": "-"
    }
   },
   "outputs": [],
   "source": [
    "seq_values2[1:-1]"
   ]
  },
  {
   "cell_type": "markdown",
   "metadata": {
    "slideshow": {
     "slide_type": "fragment"
    }
   },
   "source": [
    "* Indexed parts of an array are not copies of this part of the array"
   ]
  },
  {
   "cell_type": "code",
   "execution_count": null,
   "metadata": {
    "slideshow": {
     "slide_type": "-"
    }
   },
   "outputs": [],
   "source": [
    "seq_new = seq_values2[1:-1]\n",
    "seq_new[0] = 100\n",
    "seq_values2"
   ]
  },
  {
   "cell_type": "markdown",
   "metadata": {
    "collapsed": true,
    "slideshow": {
     "slide_type": "-"
    }
   },
   "source": [
    "See [`np.copy?`](https://docs.scipy.org/doc/numpy/reference/generated/numpy.copy.html)"
   ]
  },
  {
   "cell_type": "markdown",
   "metadata": {
    "slideshow": {
     "slide_type": "subslide"
    }
   },
   "source": [
    "## Computing functions of array values – vectorisation\n",
    "\n",
    "Looping through elements of an array to process it is slow.\n",
    "\n",
    "* An advantage of arrays is that we can apply functions to them directly:"
   ]
  },
  {
   "cell_type": "code",
   "execution_count": null,
   "metadata": {
    "slideshow": {
     "slide_type": "-"
    }
   },
   "outputs": [],
   "source": [
    "def f(x):\n",
    "    return x**2\n",
    "\n",
    "result_array = f(seq_values1)\n",
    "result_array"
   ]
  },
  {
   "cell_type": "markdown",
   "metadata": {
    "slideshow": {
     "slide_type": "fragment"
    }
   },
   "source": [
    "* Builds on vector arithmetic.\n",
    "* How? `NumPy` provides implementations of mathematical functions that support arrays as input."
   ]
  },
  {
   "cell_type": "markdown",
   "metadata": {
    "slideshow": {
     "slide_type": "subslide"
    }
   },
   "source": [
    "With NumPy we can operate on an array directly (vectorised):"
   ]
  },
  {
   "cell_type": "code",
   "execution_count": null,
   "metadata": {
    "slideshow": {
     "slide_type": "-"
    }
   },
   "outputs": [],
   "source": [
    "x = np.linspace(0, 7, 10)\n",
    "\n",
    "y = np.sin(x) * np.cos(x) * np.exp(-x**2) + 2 + x**2\n",
    "y"
   ]
  },
  {
   "cell_type": "markdown",
   "metadata": {
    "slideshow": {
     "slide_type": "-"
    }
   },
   "source": [
    "We must remember to use mathematical functions (such as `sin`, `cos`, and `exp` above) from the NumPy package (`np`) for this to work. Does not work with, e.g., the `math` module from the Python standard library."
   ]
  },
  {
   "cell_type": "markdown",
   "metadata": {
    "slideshow": {
     "slide_type": "subslide"
    }
   },
   "source": [
    "## When does code work in vectorised form?\n",
    "\n",
    "Can we just take any existing (scalar) Python code and use it for array-valued input as well?\n",
    "\n",
    "* To a large extent - yes.\n",
    "* Import the necessary mathematical functions from the `numpy` package instead of, e.g., the `math` module.\n",
    "* `numpy`’s implementations of the functions support array inputs.\n",
    "* If the function in question contains conditional statements (`if`), these parts may have to be re-written to support arrays.\n",
    "* In most cases, however, these can be converted using `numpy.vectorize`"
   ]
  },
  {
   "cell_type": "markdown",
   "metadata": {
    "slideshow": {
     "slide_type": "subslide"
    }
   },
   "source": [
    "Vectorisation example:"
   ]
  },
  {
   "cell_type": "code",
   "execution_count": null,
   "metadata": {
    "slideshow": {
     "slide_type": "-"
    }
   },
   "outputs": [],
   "source": [
    "def sign_function(x):\n",
    "    if x >= 0:\n",
    "        return 1\n",
    "    else:\n",
    "        return -1\n",
    "    \n",
    "sign_function_vec = np.vectorize(sign_function)\n",
    "pos_neg_array = np.arange(-2, 3)"
   ]
  },
  {
   "cell_type": "code",
   "execution_count": null,
   "metadata": {
    "slideshow": {
     "slide_type": "-"
    }
   },
   "outputs": [],
   "source": [
    "sign_function(pos_neg_array)"
   ]
  },
  {
   "cell_type": "code",
   "execution_count": null,
   "metadata": {
    "slideshow": {
     "slide_type": "-"
    }
   },
   "outputs": [],
   "source": [
    "sign_function_vec(pos_neg_array)"
   ]
  },
  {
   "cell_type": "markdown",
   "metadata": {
    "slideshow": {
     "slide_type": "subslide"
    }
   },
   "source": [
    "## More About Arrays\n",
    "\n",
    "Before we move on to visualisation, a few more details about NumPy arrays:\n",
    "\n",
    "* Arrays are not just one-dimensional (vectors). They can be 2- or higher-dimensional as well (matrices, or tensors more generally).\n",
    "* Multi-dimensional arrays can be indexed with multiple levels of indices:"
   ]
  },
  {
   "cell_type": "code",
   "execution_count": null,
   "metadata": {
    "slideshow": {
     "slide_type": "-"
    }
   },
   "outputs": [],
   "source": [
    "table = np.arange(4).reshape((2,2))\n",
    "table"
   ]
  },
  {
   "cell_type": "code",
   "execution_count": null,
   "metadata": {
    "slideshow": {
     "slide_type": "-"
    }
   },
   "outputs": [],
   "source": [
    "table[1,1]"
   ]
  },
  {
   "cell_type": "markdown",
   "metadata": {
    "slideshow": {
     "slide_type": "subslide"
    }
   },
   "source": [
    "* We can inspect the “size” of an array, i.e. the number of elements along each dimension of the array, using `table.shape`\n",
    "* We can think of a one-dimensional array as a vector and a two-dimensional array as a matrix."
   ]
  },
  {
   "cell_type": "code",
   "execution_count": null,
   "metadata": {
    "slideshow": {
     "slide_type": "-"
    }
   },
   "outputs": [],
   "source": [
    "table.shape"
   ]
  },
  {
   "cell_type": "markdown",
   "metadata": {
    "slideshow": {
     "slide_type": "subslide"
    }
   },
   "source": [
    "* Multiplication `A * B` means entry-wise multiplication (Hadamard product).\n",
    "* If we want matrix multiplication between arrays representing vectors and/or matrices, we need to use `np.dot()` or `@` - **in Python >= 3.5**."
   ]
  },
  {
   "cell_type": "code",
   "execution_count": null,
   "metadata": {
    "slideshow": {
     "slide_type": "-"
    }
   },
   "outputs": [],
   "source": [
    "A = 2 * np.ones((2,2))\n",
    "A"
   ]
  },
  {
   "cell_type": "code",
   "execution_count": null,
   "metadata": {
    "slideshow": {
     "slide_type": "-"
    }
   },
   "outputs": [],
   "source": [
    "B = 3 * np.ones((2,2))\n",
    "B"
   ]
  },
  {
   "cell_type": "code",
   "execution_count": null,
   "metadata": {
    "slideshow": {
     "slide_type": "fragment"
    }
   },
   "outputs": [],
   "source": [
    "A * B"
   ]
  },
  {
   "cell_type": "code",
   "execution_count": null,
   "metadata": {
    "slideshow": {
     "slide_type": "-"
    }
   },
   "outputs": [],
   "source": [
    "A @ B"
   ]
  },
  {
   "cell_type": "markdown",
   "metadata": {
    "slideshow": {
     "slide_type": "subslide"
    }
   },
   "source": [
    "## Matrix data type\n",
    "\n",
    "* NumPy also has a special data type `matrix` specifically for matrices.\n",
    "* Where arrays can be any number of dimensions, variables of type `matrix` can only be two-dimensional.\n",
    "* A vector can be represented as type `matrix` with only one element in either the first (row vector) or second (column vector) dimension.\n",
    "* For matrices, multiplication (`*`) is defined as matrix multiplication as opposed to element-wise multiplication which is the case for arrays.\n",
    "\n",
    "**Take-home message**\n",
    "\n",
    "- The major advantage of the `matrix` type is notational convenience for matrix(-vector) products, which is not even relevant in Python >= 3.5.\n",
    "- The `matrix` type is strictly two-dimensional whereas `array` can be any dimension and is thus more versatile.\n",
    "\n",
    "In my opinion; not worth the trouble of distinguishing between `array` and `matrix` - stick to `array`."
   ]
  },
  {
   "cell_type": "markdown",
   "metadata": {
    "slideshow": {
     "slide_type": "subslide"
    }
   },
   "source": [
    "## Random numbers\n",
    "\n",
    "Some times we may need random numbers, for example for [*Monte Carlo simulation*](https://en.wikipedia.org/wiki/Monte_Carlo_method).\n",
    "\n",
    "NumPy includes a module for generating random numbers.\n",
    "\n",
    "- Uniform random numbers between 0 and 1:"
   ]
  },
  {
   "cell_type": "code",
   "execution_count": null,
   "metadata": {
    "slideshow": {
     "slide_type": "-"
    }
   },
   "outputs": [],
   "source": [
    "np.random.random(size=(3,5))"
   ]
  },
  {
   "cell_type": "markdown",
   "metadata": {
    "slideshow": {
     "slide_type": "fragment"
    }
   },
   "source": [
    "- Uniform random numbers in an interval of your choice:"
   ]
  },
  {
   "cell_type": "code",
   "execution_count": null,
   "metadata": {
    "slideshow": {
     "slide_type": "-"
    }
   },
   "outputs": [],
   "source": [
    "np.random.uniform(-2, 2, size=(3,5))"
   ]
  },
  {
   "cell_type": "markdown",
   "metadata": {
    "slideshow": {
     "slide_type": "subslide"
    }
   },
   "source": [
    "### Gaussian random numbers\n",
    "\n",
    "- Standard normal distributed (mean 0, standard deviation 1):"
   ]
  },
  {
   "cell_type": "code",
   "execution_count": null,
   "metadata": {
    "slideshow": {
     "slide_type": "-"
    }
   },
   "outputs": [],
   "source": [
    "N = 10\n",
    "\n",
    "np.random.randn(N)"
   ]
  },
  {
   "cell_type": "markdown",
   "metadata": {
    "slideshow": {
     "slide_type": "fragment"
    }
   },
   "source": [
    "- With mean and std. deviation of your choice:"
   ]
  },
  {
   "cell_type": "code",
   "execution_count": null,
   "metadata": {
    "slideshow": {
     "slide_type": "-"
    }
   },
   "outputs": [],
   "source": [
    "m = 2.3\n",
    "s = 2\n",
    "\n",
    "np.random.normal(m, s, size=N)"
   ]
  },
  {
   "cell_type": "markdown",
   "metadata": {
    "slideshow": {
     "slide_type": "subslide"
    }
   },
   "source": [
    "### Random integers and random selections\n",
    "\n",
    "- Random integers, for example between 0 and 10 (note 10 is not included):"
   ]
  },
  {
   "cell_type": "code",
   "execution_count": null,
   "metadata": {
    "slideshow": {
     "slide_type": "-"
    }
   },
   "outputs": [],
   "source": [
    "np.random.randint(0, 10, size=20)"
   ]
  },
  {
   "cell_type": "markdown",
   "metadata": {
    "slideshow": {
     "slide_type": "fragment"
    }
   },
   "source": [
    "- Selecting random entries from an array-like object:"
   ]
  },
  {
   "cell_type": "code",
   "execution_count": null,
   "metadata": {
    "slideshow": {
     "slide_type": "-"
    }
   },
   "outputs": [],
   "source": [
    "np.random.choice((0, 3, 7, 9), replace=True, size=20)"
   ]
  },
  {
   "cell_type": "markdown",
   "metadata": {
    "slideshow": {
     "slide_type": "fragment"
    }
   },
   "source": [
    "For lots more of random number functionality, see [`numpy.random`](https://docs.scipy.org/doc/numpy/reference/routines.random.html)."
   ]
  },
  {
   "cell_type": "markdown",
   "metadata": {
    "slideshow": {
     "slide_type": "subslide"
    }
   },
   "source": [
    "## Linear algebra\n",
    "\n",
    "NumPy also provides some basic linear algebra operations, for example SVD:"
   ]
  },
  {
   "cell_type": "code",
   "execution_count": null,
   "metadata": {
    "slideshow": {
     "slide_type": "-"
    }
   },
   "outputs": [],
   "source": [
    "matrix_example = np.random.normal(0, 5, size=(4,4))\n",
    "matrix_example"
   ]
  },
  {
   "cell_type": "code",
   "execution_count": null,
   "metadata": {
    "slideshow": {
     "slide_type": "-"
    }
   },
   "outputs": [],
   "source": [
    "U, S, V = np.linalg.svd(matrix_example)\n",
    "U, S, V"
   ]
  },
  {
   "cell_type": "markdown",
   "metadata": {
    "slideshow": {
     "slide_type": "fragment"
    }
   },
   "source": [
    "For lots more of linear algebra, see [`numpy.linalg`](https://docs.scipy.org/doc/numpy/reference/routines.linalg.html)."
   ]
  },
  {
   "cell_type": "markdown",
   "metadata": {
    "slideshow": {
     "slide_type": "subslide"
    }
   },
   "source": [
    "## Storing numerical data in files\n",
    "\n",
    "NumPy comes with functionality that makes is a lot easier (than Python's basic file mechanisms) to work with large amounts of numercial data in files.\n",
    "\n",
    "- There are several options, both binary (see [`np.save`](https://docs.scipy.org/doc/numpy/reference/generated/numpy.save.html)/[`np.load`](https://docs.scipy.org/doc/numpy/reference/generated/numpy.load.html)) and plain-text (see [`np.savetxt`](https://docs.scipy.org/doc/numpy/reference/generated/numpy.savetxt.html)/[`np.loadtxt`](https://docs.scipy.org/doc/numpy/reference/generated/numpy.loadtxt.html))\n",
    "- The plaintext variants are convenient to work with, because they generalise CSV files. These are quite universal and readable, but take up considerable space.\n",
    "- The binary variants have similar convenient interfaces. The files are not human-readable and less compatible with other software, but they are more efficient in terms of storage space."
   ]
  },
  {
   "cell_type": "markdown",
   "metadata": {
    "slideshow": {
     "slide_type": "subslide"
    }
   },
   "source": [
    "### Store array to file\n",
    "\n",
    "As an example, we store the matrix from the previous example as a plain-text file:"
   ]
  },
  {
   "cell_type": "code",
   "execution_count": null,
   "metadata": {
    "slideshow": {
     "slide_type": "-"
    }
   },
   "outputs": [],
   "source": [
    "np.savetxt('demo_numpy_file.txt', matrix_example)"
   ]
  },
  {
   "cell_type": "code",
   "execution_count": null,
   "metadata": {
    "slideshow": {
     "slide_type": "-"
    }
   },
   "outputs": [],
   "source": [
    "!cat demo_numpy_file.txt"
   ]
  },
  {
   "cell_type": "markdown",
   "metadata": {
    "slideshow": {
     "slide_type": "subslide"
    }
   },
   "source": [
    "### Load array from file\n",
    "\n",
    "Now we load the array back in:"
   ]
  },
  {
   "cell_type": "code",
   "execution_count": null,
   "metadata": {
    "slideshow": {
     "slide_type": "-"
    }
   },
   "outputs": [],
   "source": [
    "matrix_reloaded = np.loadtxt('demo_numpy_file.txt')\n",
    "matrix_reloaded"
   ]
  },
  {
   "cell_type": "markdown",
   "metadata": {
    "slideshow": {
     "slide_type": "fragment"
    }
   },
   "source": [
    "`np.savetxt` and `np.loadtxt` are quite configurable and can be set up with different number separator characters, different precision etc. See documentation links three slides back or try typing `np.loadtxt?` in Spyder (IPython)."
   ]
  },
  {
   "cell_type": "markdown",
   "metadata": {
    "slideshow": {
     "slide_type": "subslide"
    }
   },
   "source": [
    "# NumPy Summary\n",
    "\n",
    "These were just a few features of NumPy to get you started. See [NumPy documentation](https://docs.scipy.org/doc/numpy/index.html) for more."
   ]
  },
  {
   "cell_type": "markdown",
   "metadata": {
    "slideshow": {
     "slide_type": "slide"
    }
   },
   "source": [
    "# Plotting numerical data with Matplotlib\n",
    "\n",
    "The most common package for plotting in Python is Matplotlib.\n",
    "\n",
    "* Two interfaces: `matplotlib.pylab` and `matplotlib.pyplot`.\n",
    "* `matplotlib.pylab` combines the functionality of numpy and `matplotlib.pyplot` for convenience – is quite similar to the plotting functionality in Matlab.\n",
    "\n",
    "  See also Matplotlib [FAQ](http://matplotlib.org/faq/usage_faq.html#matplotlib-pylab-and-pyplot-how-are-they-related).\n",
    "* We focus on the `matplotlib.pyplot` module here."
   ]
  },
  {
   "cell_type": "markdown",
   "metadata": {
    "slideshow": {
     "slide_type": "subslide"
    }
   },
   "source": [
    "### Getting started\n",
    "\n",
    "As a simple first plot, let us try plotting the function\n",
    "$$f(x) = 3x^3 - 2x^2 + x - 1$$\n",
    "for values $x \\in [-5, 5]$.\n",
    "* First, generate values for the function input $x$.\n",
    "* Second, generate the function values $y = f(x)$ at the generated points."
   ]
  },
  {
   "cell_type": "markdown",
   "metadata": {
    "slideshow": {
     "slide_type": "subslide"
    }
   },
   "source": [
    "### First plot\n",
    "\n",
    "Let us have a look at the code.\n",
    "\n",
    "Matplotlib is typically imported as"
   ]
  },
  {
   "cell_type": "code",
   "execution_count": null,
   "metadata": {
    "slideshow": {
     "slide_type": "-"
    }
   },
   "outputs": [],
   "source": [
    "import matplotlib.pyplot as plt\n",
    "# Necessary to display plots inside notebook:\n",
    "%matplotlib inline"
   ]
  },
  {
   "cell_type": "markdown",
   "metadata": {
    "slideshow": {
     "slide_type": "fragment"
    }
   },
   "source": [
    "Define the function"
   ]
  },
  {
   "cell_type": "code",
   "execution_count": null,
   "metadata": {
    "slideshow": {
     "slide_type": "-"
    }
   },
   "outputs": [],
   "source": [
    "def f(x):\n",
    "    return 3 * x**3 - 2 * x**2 + x - 1"
   ]
  },
  {
   "cell_type": "markdown",
   "metadata": {
    "slideshow": {
     "slide_type": "fragment"
    }
   },
   "source": [
    "Generate the points"
   ]
  },
  {
   "cell_type": "code",
   "execution_count": null,
   "metadata": {
    "slideshow": {
     "slide_type": "-"
    }
   },
   "outputs": [],
   "source": [
    "x = np.linspace(-5, 5, 101) # 51 points btw. 0 and 3\n",
    "y = f(x)                  # compute all f values"
   ]
  },
  {
   "cell_type": "markdown",
   "metadata": {
    "slideshow": {
     "slide_type": "subslide"
    }
   },
   "source": [
    "Plot the points in the simplest possible way and save the plot as graphics files"
   ]
  },
  {
   "cell_type": "code",
   "execution_count": null,
   "metadata": {
    "slideshow": {
     "slide_type": "-"
    }
   },
   "outputs": [],
   "source": [
    "plt.plot(x, y)\n",
    "plt.savefig('demoplot1.pdf') # produce PDF\n",
    "plt.savefig('demoplot1.png') # produce PNG"
   ]
  },
  {
   "cell_type": "markdown",
   "metadata": {
    "slideshow": {
     "slide_type": "-"
    }
   },
   "source": [
    "When plotting from a script run from the command line, it is necessary to run `plt.show()` to show the figure."
   ]
  },
  {
   "cell_type": "markdown",
   "metadata": {
    "slideshow": {
     "slide_type": "subslide"
    }
   },
   "source": [
    "### More features\n",
    "\n",
    "It works, but the figure is a bit too minimalist.\n",
    "\n",
    "Let us see how we can add more details to it:\n",
    "\n",
    "* Add axis titles – show which variables are plotted along which axes.\n",
    "* Add a legend – a list of which function(s) the curve(s) represent(s).\n",
    "* Adjust the axes to display the data as we want.\n",
    "* Add a title.\n",
    "* Show grid lines in plot.\n",
    "* Plot multiple curves.\n",
    "* Plot multiple axes in one figure."
   ]
  },
  {
   "cell_type": "markdown",
   "metadata": {
    "slideshow": {
     "slide_type": "subslide"
    }
   },
   "source": [
    "To have a bit more to look at, let us define an additional function\n",
    "$$g(x) = -3x^3 + 2x^2 - x + 1$$\n",
    "for values $x \\in [-5,5]$.\n",
    "\n",
    "Let us have a look at the code:"
   ]
  },
  {
   "cell_type": "code",
   "execution_count": null,
   "metadata": {
    "slideshow": {
     "slide_type": "-"
    }
   },
   "outputs": [],
   "source": [
    "def g(x):\n",
    "    return -3 * x**3 + 2 * x**2 - x + 1"
   ]
  },
  {
   "cell_type": "markdown",
   "metadata": {
    "slideshow": {
     "slide_type": "subslide"
    }
   },
   "source": [
    "Generate the new points"
   ]
  },
  {
   "cell_type": "code",
   "execution_count": null,
   "metadata": {
    "slideshow": {
     "slide_type": "-"
    }
   },
   "outputs": [],
   "source": [
    "z = g(x)"
   ]
  },
  {
   "cell_type": "code",
   "execution_count": null,
   "metadata": {
    "slideshow": {
     "slide_type": "subslide"
    }
   },
   "outputs": [],
   "source": [
    "plt.figure(figsize=(10,6)) # Open a figure\n",
    "plt.subplot(2, 1, 1) # Select the first (sub-)plot\n",
    "# Plot f(x) in top sub-plot\n",
    "plt.plot(x, y, 'g.-', label='$3x^3 - 2x^2 + x - 1$')\n",
    "plt.xlabel('x'); plt.ylabel('y')\n",
    "plt.axis([x[0], x[-1], np.min(y)-0.05, np.max(y)+0.5])\n",
    "plt.legend(); plt.title('Function $f(x)$')\n",
    "plt.grid()\n",
    "plt.subplot(2, 1, 2)  # Select the second (sub-)plot\n",
    "# Plot g(x) in bottom sub-plot\n",
    "plt.plot(x, y, 'r-', x, z, 'b:')\n",
    "plt.xlabel('x'); plt.ylabel('y / z')\n",
    "plt.legend(['$3x^3 - 2x^2 + x - 1$', '$-3x^3 + 2x^2 - x + 1$'])\n",
    "plt.title('Functions $f(x)$ and $g(x)$')\n",
    "plt.tight_layout()\n",
    "plt.savefig('demoplot2.pdf')"
   ]
  },
  {
   "cell_type": "markdown",
   "metadata": {
    "slideshow": {
     "slide_type": "subslide"
    }
   },
   "source": [
    "### A bit more on sub-plots\n",
    "\n",
    "- The `plt.subplot` function mimics (and many other plot functions) the way Matlab lays out plots.\n",
    "- There is also an alternative and somewhat more flexible mechanism for laying out multiple plots in Matplotlib: [GridSpec](https://matplotlib.org/users/gridspec.html) (check out the tutorial for more details)."
   ]
  },
  {
   "cell_type": "markdown",
   "metadata": {
    "slideshow": {
     "slide_type": "subslide"
    }
   },
   "source": [
    "## More Plotting Functionality\n",
    "\n",
    "The previous examples only show a brief glance at the functionality available in Matplotlib. For more about its many, many features see [Matplotlib's documentation](https://matplotlib.org/index.html#documentation). I will briefly mention a couple of its features here:\n",
    "\n",
    "### Animating plots\n",
    "\n",
    "* Can be handy for illustrating processes that evolve over time.\n",
    "* See the Matplotlib [`animate`](http://matplotlib.org/api/animation_api.html) module.\n",
    "\n",
    "### 3D plots\n",
    "\n",
    "* Matplotlib has (limited) functionality for plotting in 3D through the `mplot3d` toolkit that comes with Matplotlib.\n",
    "* See the [`mplot3d` tutorial](http://matplotlib.org/mpl_toolkits/mplot3d/tutorial.html) if you need it."
   ]
  },
  {
   "cell_type": "markdown",
   "metadata": {
    "slideshow": {
     "slide_type": "subslide"
    }
   },
   "source": [
    "## Additional Plot Packages\n",
    "\n",
    "Until now we have been talking about Matplotlib, a long-time de-facto standard in Python plotting.\n",
    "\n",
    "* There are also other plotting packages worth a mention.\n",
    "* We will not go through them in detail:\n",
    "  * `seaborn`\n",
    "  * `vispy`\n",
    "  * `bokeh`"
   ]
  },
  {
   "attachments": {},
   "cell_type": "markdown",
   "metadata": {
    "slideshow": {
     "slide_type": "subslide"
    }
   },
   "source": [
    "### seaborn\n",
    "* A package to easily produce good-looking statistical plots.\n",
    "* Built on top of Matplotlib.\n",
    "* You can still tweak details etc. using Matplotlib functions from `pyplot`.\n",
    "* See https://seaborn.pydata.org/ (installable via conda)\n",
    "<center>![seaborn_example.png](attachment:seaborn_example.png)</center>"
   ]
  },
  {
   "cell_type": "markdown",
   "metadata": {
    "slideshow": {
     "slide_type": "subslide"
    }
   },
   "source": [
    "### VisPy\n",
    "\n",
    "* Interactive 2D and 3D visualisation.\n",
    "* GPU-accelerated rendering via OpenGL.\n",
    "* See http://vispy.org/ (installable via conda)"
   ]
  },
  {
   "cell_type": "markdown",
   "metadata": {
    "slideshow": {
     "slide_type": "subslide"
    }
   },
   "source": [
    "### Bokeh\n",
    "* More or less everything keeps getting more and more web-oriented, data-visualisation too...\n",
    "* Bokeh is a browser-based interactive visualisation package that generates HTML + JavaScript interactive plots.\n",
    "* You can create plots in Bokeh using the bokeh package.\n",
    "* You can also convert existing Matplotlib-based figures to Bokeh (not all features are compatible - see `bokeh.mpl.to_bokeh`).\n",
    "* See http://bokeh.pydata.org and http://bokeh.pydata.org/en/latest/docs/quickstart.html (installable via Anaconda).\n",
    "* *Example: https://demo.bokehplots.com/apps/selection_histogram*"
   ]
  },
  {
   "cell_type": "markdown",
   "metadata": {
    "slideshow": {
     "slide_type": "slide"
    }
   },
   "source": [
    "# SciPy\n",
    "\n",
    "- Once we are familiar with NumPy, we have the basic functionality in place to handle numerical data in an efficient way and on a reasonably large scale.\n",
    "- Apart from the basic mathematical operations and linear algebra available in NumPy, we are so far left on our own to implement more specific functionality\n",
    "- A larger selection of more specific \"scientific computing\" functionality is available in the SciPy package.\n",
    "- Where NumPy lays the foundation, the companion package SciPy builds the house on top of that.\n",
    "- There is A LOT of functionality in SciPy and of course we can only scratch the surface here. We will briefly glance through the modules provided in SciPy."
   ]
  },
  {
   "cell_type": "markdown",
   "metadata": {
    "slideshow": {
     "slide_type": "subslide"
    }
   },
   "source": [
    "## Fast Fourier transform\n",
    "\n",
    "One of the familiar and useful tools in SciPy is the FFT (in `scipy.fftpack`, a different FFT implementation is also available in `numpy.fft`).\n",
    "\n",
    "- It contains several different FFT routines - including 2- or more-dimensional as well as DCT and DST (see [`scipy.fftpack`](https://docs.scipy.org/doc/scipy-1.1.0/reference/tutorial/fftpack.html)).\n",
    "- Ordinary FFT:"
   ]
  },
  {
   "cell_type": "code",
   "execution_count": null,
   "metadata": {
    "slideshow": {
     "slide_type": "-"
    }
   },
   "outputs": [],
   "source": [
    "time_seq = np.random.randn(16)\n",
    "time_seq"
   ]
  },
  {
   "cell_type": "code",
   "execution_count": null,
   "metadata": {
    "slideshow": {
     "slide_type": "-"
    }
   },
   "outputs": [],
   "source": [
    "from scipy import fftpack\n",
    "\n",
    "freq_seq = fftpack.fft(time_seq)\n",
    "freq_seq"
   ]
  },
  {
   "cell_type": "markdown",
   "metadata": {
    "slideshow": {
     "slide_type": "subslide"
    }
   },
   "source": [
    "- Inverse FFT:"
   ]
  },
  {
   "cell_type": "code",
   "execution_count": null,
   "metadata": {
    "slideshow": {
     "slide_type": "-"
    }
   },
   "outputs": [],
   "source": [
    "time_seq_back = fftpack.ifft(freq_seq)\n",
    "time_seq_back"
   ]
  },
  {
   "cell_type": "markdown",
   "metadata": {
    "slideshow": {
     "slide_type": "fragment"
    }
   },
   "source": [
    "Notice the small imaginary parts. Why? - Numerical effects of finite precision."
   ]
  },
  {
   "cell_type": "markdown",
   "metadata": {
    "slideshow": {
     "slide_type": "subslide"
    }
   },
   "source": [
    "- FFT for real signals"
   ]
  },
  {
   "cell_type": "code",
   "execution_count": null,
   "metadata": {
    "slideshow": {
     "slide_type": "-"
    }
   },
   "outputs": [],
   "source": [
    "freq_seq_real = fftpack.rfft(time_seq)\n",
    "freq_seq_real"
   ]
  },
  {
   "cell_type": "markdown",
   "metadata": {
    "slideshow": {
     "slide_type": "fragment"
    }
   },
   "source": [
    "Result contains separate real and imaginary parts."
   ]
  },
  {
   "cell_type": "markdown",
   "metadata": {
    "slideshow": {
     "slide_type": "fragment"
    }
   },
   "source": [
    "- Inverse FFT for real signals"
   ]
  },
  {
   "cell_type": "code",
   "execution_count": null,
   "metadata": {
    "slideshow": {
     "slide_type": "-"
    }
   },
   "outputs": [],
   "source": [
    "time_seq_real = fftpack.irfft(freq_seq_real)\n",
    "time_seq_real"
   ]
  },
  {
   "cell_type": "markdown",
   "metadata": {
    "slideshow": {
     "slide_type": "subslide"
    }
   },
   "source": [
    "## Signal processing\n",
    "\n",
    "The signal processing toolbox in SciPy contains filtering and filter design functions, some spectral analysis tools, and various other tools (see [`scipy.signal`](https://docs.scipy.org/doc/scipy-1.1.0/reference/tutorial/signal.html).\n",
    "\n",
    "- Filter design:"
   ]
  },
  {
   "cell_type": "code",
   "execution_count": null,
   "metadata": {
    "slideshow": {
     "slide_type": "-"
    }
   },
   "outputs": [],
   "source": [
    "from scipy import signal\n",
    "\n",
    "filter_order = 4\n",
    "normalised_cut_freq = 0.3\n",
    "\n",
    "b, a = signal.butter(filter_order, normalised_cut_freq, btype='low', analog=False)"
   ]
  },
  {
   "cell_type": "code",
   "execution_count": null,
   "metadata": {
    "slideshow": {
     "slide_type": "subslide"
    }
   },
   "outputs": [],
   "source": [
    "w, h = signal.freqz(b, a)\n",
    "plt.plot(w, 20*np.log10(np.abs(h)))\n",
    "plt.title('Digital filter frequency response')\n",
    "plt.ylabel('Amplitude Response [dB]')\n",
    "plt.xlabel('Frequency (rad/sample)')\n",
    "plt.grid()\n",
    "plt.axis([0, np.pi, -50, 1])"
   ]
  },
  {
   "cell_type": "markdown",
   "metadata": {
    "slideshow": {
     "slide_type": "subslide"
    }
   },
   "source": [
    "- Filter a signal:"
   ]
  },
  {
   "cell_type": "code",
   "execution_count": null,
   "metadata": {
    "slideshow": {
     "slide_type": "-"
    }
   },
   "outputs": [],
   "source": [
    "time_seq_filtered = signal.lfilter(b, a, time_seq)"
   ]
  },
  {
   "cell_type": "code",
   "execution_count": null,
   "metadata": {
    "slideshow": {
     "slide_type": "-"
    }
   },
   "outputs": [],
   "source": [
    "plt.plot(time_seq, 'g-', label='Original signal')\n",
    "plt.plot(time_seq_filtered, 'b-', label='Filtered signal')\n",
    "plt.title('Time-domain signals')\n",
    "plt.ylabel('Sample index')\n",
    "plt.xlabel('Amplitude')\n",
    "plt.grid()\n",
    "plt.legend()"
   ]
  },
  {
   "cell_type": "markdown",
   "metadata": {
    "slideshow": {
     "slide_type": "subslide"
    }
   },
   "source": [
    "## Statistics\n",
    "\n",
    "SciPy provides a statistics toolbox.\n",
    "\n",
    "- The functionality from `numpy.random`, which we saw earlier, is focused on *generating random numbers* from certain distributions.\n",
    "- The functionality from `scipy.stats` is instead focused mainly on *working with the random number distributions* themselves, testing data against these, comparing data with statistical tests, etc.\n",
    "- For example, estimating parameters of an assumed distribution for a sample of data:"
   ]
  },
  {
   "cell_type": "code",
   "execution_count": null,
   "metadata": {
    "slideshow": {
     "slide_type": "-"
    }
   },
   "outputs": [],
   "source": [
    "from scipy import stats\n",
    "\n",
    "test_data = np.random.normal(loc=2, scale=1.5, size=10000)\n",
    "loc_est, scale_est = stats.norm.fit(test_data)\n",
    "loc_est, scale_est"
   ]
  },
  {
   "cell_type": "markdown",
   "metadata": {
    "slideshow": {
     "slide_type": "subslide"
    }
   },
   "source": [
    "- Performing linear regression on a sample of data:"
   ]
  },
  {
   "cell_type": "code",
   "execution_count": null,
   "metadata": {
    "slideshow": {
     "slide_type": "-"
    }
   },
   "outputs": [],
   "source": [
    "N = 100\n",
    "test_data_x = np.random.uniform(0, 10, size=N)\n",
    "test_data_y = 0.5 * test_data_x - 2 + np.random.normal(0, 1, size=N)\n",
    "plt. plot(test_data_x, test_data_y, 'bo', alpha=0.5)"
   ]
  },
  {
   "cell_type": "markdown",
   "metadata": {
    "slideshow": {
     "slide_type": "subslide"
    }
   },
   "source": [
    "...linear regression on a sample of data:"
   ]
  },
  {
   "cell_type": "code",
   "execution_count": null,
   "metadata": {
    "slideshow": {
     "slide_type": "-"
    }
   },
   "outputs": [],
   "source": [
    "slope, intercept, rvalue, *_ = stats.linregress(test_data_x, test_data_y)\n",
    "plt.plot(test_data_x, test_data_y, 'bo', alpha=0.5)\n",
    "plt.plot((0, 10), (intercept, intercept + 10 * slope), 'g-')\n",
    "plt.legend((f'Linear regression; corr. coeff. {rvalue:.3f}',))"
   ]
  },
  {
   "cell_type": "markdown",
   "metadata": {
    "slideshow": {
     "slide_type": "subslide"
    }
   },
   "source": [
    "### Statistics summary\n",
    "\n",
    "This was just a very small snippet of the functionality that the `scipy.stats` toolbox has to offer. For a more comprehensive overview see the [SciPy Statistics Tutorial](https://docs.scipy.org/doc/scipy/reference/tutorial/stats.html)."
   ]
  },
  {
   "cell_type": "markdown",
   "metadata": {
    "slideshow": {
     "slide_type": "subslide"
    }
   },
   "source": [
    "## Optimisation\n",
    "\n",
    "Another important toolbox in the SciPy package is the `scipy.optimize` module.\n",
    "\n",
    "- Provides general methods for solving optimisation problems (minimisation).\n",
    "- Both unconstrained and constrained.\n",
    "- Least squares fitting.\n",
    "\n",
    "Let us have a look at the general minimisation methods:\n",
    "\n",
    "- First, we define a function to try minimising:"
   ]
  },
  {
   "cell_type": "code",
   "execution_count": null,
   "metadata": {
    "slideshow": {
     "slide_type": "-"
    }
   },
   "outputs": [],
   "source": [
    "def func_to_minimize(x):\n",
    "    return (x - 1)**2"
   ]
  },
  {
   "cell_type": "markdown",
   "metadata": {
    "slideshow": {
     "slide_type": "subslide"
    }
   },
   "source": [
    "A quick look at our function:"
   ]
  },
  {
   "cell_type": "code",
   "execution_count": null,
   "metadata": {
    "slideshow": {
     "slide_type": "-"
    }
   },
   "outputs": [],
   "source": [
    "x = np.linspace(-1, 3, 50)\n",
    "plt.plot(x, func_to_minimize(x), 'g--')"
   ]
  },
  {
   "cell_type": "markdown",
   "metadata": {
    "slideshow": {
     "slide_type": "subslide"
    }
   },
   "source": [
    "Now we find the function's minimum:"
   ]
  },
  {
   "cell_type": "code",
   "execution_count": null,
   "metadata": {
    "slideshow": {
     "slide_type": "-"
    }
   },
   "outputs": [],
   "source": [
    "from scipy import optimize\n",
    "\n",
    "minimum = optimize.minimize(func_to_minimize, 0.0)\n",
    "minimum"
   ]
  },
  {
   "cell_type": "code",
   "execution_count": null,
   "metadata": {
    "slideshow": {
     "slide_type": "-"
    }
   },
   "outputs": [],
   "source": [
    "minimum.x"
   ]
  },
  {
   "cell_type": "markdown",
   "metadata": {
    "slideshow": {
     "slide_type": "subslide"
    }
   },
   "source": [
    "### `scipy.optimize`\n",
    "\n",
    "Next, let us have a look at the least squares fitting:\n",
    "- We decide to try and fit a third-degree polynomial to the random data we used in the `scipy.stats` examples before. First, we need to define the function to fit and a corresponding error function:"
   ]
  },
  {
   "cell_type": "code",
   "execution_count": null,
   "metadata": {
    "slideshow": {
     "slide_type": "-"
    }
   },
   "outputs": [],
   "source": [
    "def poly3(coefficients, points):\n",
    "    return (coefficients[0] + coefficients[1] * points\n",
    "            + coefficients[2] * points**2 + coefficients[3] * points**3)\n",
    "\n",
    "def err_func(coefficients, points, values):\n",
    "    return poly3(coefficients, points) - values"
   ]
  },
  {
   "cell_type": "markdown",
   "metadata": {
    "slideshow": {
     "slide_type": "subslide"
    }
   },
   "source": [
    "Now we can fit our function to the data:"
   ]
  },
  {
   "cell_type": "code",
   "execution_count": null,
   "metadata": {},
   "outputs": [],
   "source": [
    "result = optimize.least_squares(err_func, 0.1 * np.ones(4), args=(test_data_x, test_data_y))\n",
    "result"
   ]
  },
  {
   "cell_type": "markdown",
   "metadata": {
    "slideshow": {
     "slide_type": "subslide"
    }
   },
   "source": [
    "Let us plot our fit to get an idea how good it is:"
   ]
  },
  {
   "cell_type": "code",
   "execution_count": null,
   "metadata": {
    "slideshow": {
     "slide_type": "-"
    }
   },
   "outputs": [],
   "source": [
    "plot_points = np.linspace(0, 10, 50)\n",
    "plt.plot(test_data_x, test_data_y, 'bo', alpha=0.5)\n",
    "plt.plot(plot_points, poly3(result.x, plot_points), 'g-')\n",
    "plt.legend((f'Cubic least-squares regression',))"
   ]
  },
  {
   "cell_type": "markdown",
   "metadata": {
    "slideshow": {
     "slide_type": "subslide"
    }
   },
   "source": [
    "## Additional SciPy features\n",
    "\n",
    "We can only cover a small glimpse at what SciPy has to offer today. The rest of the functionality in SciPy includes (and is not even limited to...):\n",
    "\n",
    "- Integration and differential equations ([`scipy.integrate`](https://docs.scipy.org/doc/scipy/reference/integrate.html))\n",
    "- Interpolation ([`scipy.interpolate`](https://docs.scipy.org/doc/scipy/reference/interpolate.html))\n",
    "- Input and output - for example interfaces to Matlab data files and WAV sound files ([`scipy.io`](https://docs.scipy.org/doc/scipy/reference/io.html))\n",
    "- Linear algebra ([`scipy.linalg`](https://docs.scipy.org/doc/scipy/reference/linalg.html))\n",
    "- See more in [SciPy documentation](https://docs.scipy.org/doc/scipy/reference/)"
   ]
  },
  {
   "cell_type": "markdown",
   "metadata": {
    "slideshow": {
     "slide_type": "subslide"
    }
   },
   "source": [
    "## SciKits\n",
    "\n",
    "In addition to the fairly general functionality in SciPy, a number of scientific toolkits - SciKits - provide more specialised functionality further on top of SciPy. For example:\n",
    "\n",
    "* `scikit-image` Image processing.\n",
    "* `scikit-learn` Machine learning and data mining.\n",
    "* `timeseries` Time series manipulation.\n",
    "* ...\n",
    "\n",
    "See more at https://scikits.appspot.com/scikits. There\n",
    "might be a scikit exactly for your area of research."
   ]
  },
  {
   "cell_type": "markdown",
   "metadata": {
    "slideshow": {
     "slide_type": "slide"
    }
   },
   "source": [
    "# The end...\n",
    "\n",
    "This was a very compact and hopefully useful glimpse at Python and some of the very useful tools in the Python \"ecosystem\".\n",
    "\n",
    "If you wish to know more, do not hesitate to ask me during exercises or of course, search for documentation and tutorials online; there is plenty!\n",
    "\n",
    "Please contact me if you are for example interested in a more in-depth course in your company:\n",
    "\n",
    "[<div style=\"text-align:center;\">thomas@arildsen.org</div>](mailto:thomas@arildsen.org)"
   ]
  }
 ],
 "metadata": {
  "celltoolbar": "Slideshow",
  "kernelspec": {
   "display_name": "Python 3",
   "language": "python",
   "name": "python3"
  },
  "language_info": {
   "codemirror_mode": {
    "name": "ipython",
    "version": 3
   },
   "file_extension": ".py",
   "mimetype": "text/x-python",
   "name": "python",
   "nbconvert_exporter": "python",
   "pygments_lexer": "ipython3",
   "version": "3.7.0"
  }
 },
 "nbformat": 4,
 "nbformat_minor": 2
}
